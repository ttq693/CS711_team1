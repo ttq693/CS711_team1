{
  "nbformat": 4,
  "nbformat_minor": 0,
  "metadata": {
    "colab": {
      "provenance": [],
      "authorship_tag": "ABX9TyMXoslY3rfaPljX5G56omS0",
      "include_colab_link": true
    },
    "kernelspec": {
      "name": "python3",
      "display_name": "Python 3"
    },
    "language_info": {
      "name": "python"
    }
  },
  "cells": [
    {
      "cell_type": "markdown",
      "metadata": {
        "id": "view-in-github",
        "colab_type": "text"
      },
      "source": [
        "<a href=\"https://colab.research.google.com/github/ttq693/cs711_team1/blob/master/Team1_cs711.ipynb\" target=\"_parent\"><img src=\"https://colab.research.google.com/assets/colab-badge.svg\" alt=\"Open In Colab\"/></a>"
      ]
    },
    {
      "cell_type": "code",
      "execution_count": 1,
      "metadata": {
        "colab": {
          "base_uri": "https://localhost:8080/"
        },
        "id": "RBDkX9Q1WhLF",
        "outputId": "47028583-bca4-451a-bb7c-b48924dc1500"
      },
      "outputs": [
        {
          "output_type": "stream",
          "name": "stdout",
          "text": [
            "Mounted at /content/gdrive\n"
          ]
        }
      ],
      "source": [
        "#google drive imports\n",
        "from google.colab import drive\n",
        "#mounting the drive\n",
        "drive.mount('/content/gdrive')"
      ]
    },
    {
      "cell_type": "code",
      "source": [
        "#extract the file in the runtime environment\n",
        "!unzip \"/content/gdrive/My Drive/project/archive.zip\" "
      ],
      "metadata": {
        "colab": {
          "base_uri": "https://localhost:8080/"
        },
        "id": "iQDVtZH1btSN",
        "outputId": "c93bfa38-da0f-45e1-c427-415ab6c1e9b2"
      },
      "execution_count": 2,
      "outputs": [
        {
          "output_type": "stream",
          "name": "stdout",
          "text": [
            "Archive:  /content/gdrive/My Drive/project/archive.zip\n",
            "  inflating: readme.txt              \n",
            "  inflating: RUL_FD001.txt           \n",
            "  inflating: RUL_FD002.txt           \n",
            "  inflating: RUL_FD003.txt           \n",
            "  inflating: RUL_FD004.txt           \n",
            "  inflating: test_FD001.txt          \n",
            "  inflating: test_FD002.txt          \n",
            "  inflating: test_FD003.txt          \n",
            "  inflating: train_FD001.txt         \n",
            "  inflating: train_FD002.txt         \n",
            "  inflating: train_FD003.txt         \n",
            "  inflating: train_FD004.txt         \n",
            "  inflating: x.txt                   \n",
            "  inflating: Damage Propagation Modeling.pdf  \n"
          ]
        }
      ]
    }
  ]
}